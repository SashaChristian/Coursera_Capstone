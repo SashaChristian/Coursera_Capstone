{
    "cells": [
        {
            "cell_type": "markdown",
            "metadata": {
                "collapsed": true
            },
            "source": "# Coursera Capstone Project: Is There a Correlation Between Accidents Occuring in Areas Where There Aren't Any Street Lights"
        },
        {
            "cell_type": "markdown",
            "metadata": {},
            "source": "## Introduction"
        },
        {
            "cell_type": "markdown",
            "metadata": {},
            "source": "For the final Capstone Project in the IBM Certificate Course, Coursera has provided a set of traffic accident related data to base this final project on.  The data was collected by the Seattle Police Department, recorded by Traffic Records, and provided by Coursera via a download link.  The time period for this data is from 2004- present and contains such information as severity, location, collision type, weather conditions, road conditions, and light conditions, among others.  \n\nWith the given set of data, the task was to identify a problem and who would be interested in a solution to this problem.  Based on my preliminary review of the data, I decided to explore the amount of accidents that occur in areas labeled as \u201cDark- No Street Lights\u201d.  I chose this for a couple of reasons.  One being, I was interested in what the data would show.  Two, if the data shows this to be a problem in certain areas, then putting a street light up in those areas would be a relatively easy fix.  "
        },
        {
            "cell_type": "markdown",
            "metadata": {},
            "source": "## Methodology"
        },
        {
            "cell_type": "markdown",
            "metadata": {},
            "source": "For the data analysis portion of this project, Github was used for a repository and I chose to use IBM Watson Studio to host the notebook.  To host the large collision csv file, it was uploaded to IBM Cloud.\n\nThe Python libraries utilized throughout the analysis were Pandas, Numpy, Matplotlib, and Seaborn.  \n\nOnce the data from the csv file was read, I used df.types in order to see what type of data was contained within the spreadsheet.  Because I was trying to determine the amount of accidents occurring with the light condition of \u201cDark- No Street Lights\u201d, I chose to focus on the Severity Code, Location, and Light Condition.  And from using df.types, I was able to see that Severity Code was int64 and Location and Light Condition were objects.\n\nAlong with determining the types of data, I also ran value counts.  I ran a value count on Location in order to get an idea of where the accident \u201chot spots\u201d are.  I also ran a value count on Light Condition to see the breakdowns of accidents occurring during the different light conditions.\n\nWith having a better understanding of the data I am working with and before I performed any further analysis, I created a new data frame that only contained the columns I was interested in- Severity Code, Location, and Light Condition."
        },
        {
            "cell_type": "markdown",
            "metadata": {},
            "source": "## Results"
        },
        {
            "cell_type": "markdown",
            "metadata": {},
            "source": "The first analysis I ran was sns.regplot in order to determine if there were any correlations between the Light Condition and Location.  Meaning, I wanted to determine if there were any specific areas that were dark and had a high number of accidents.  When I ran it the first time, it returned an error due to the data type being objects, which I should have anticipated.\n\nAfter getting that error, I then decided to convert the Light Condition data type from an object to an integer, thinking that would help correct the error I was receiving.  So I converted the data type and reran the correlation analysis.\n\nConverting the data type did not work and still resulted in error.  After coming to this point, I wasn\u2019t quite sure what my next step should be, so I decided to take a look at the data again.  I created a new data frame, this time filtering the Light Condition column for \u201cDark- No Street Lights\u201d.  From there I did a value count on the location.\n\nPerforming the value count, I saw a big reason as to why the correlation analysis was not working as I had hoped it would.  Looking at the top 10 locations, they are relatively low numbers.  Out of the 1,537 accidents that occur in areas where there are no street lights, there are no real \u201chot spots\u201d or clusters where accidents are most likely to occur.  Based on this result, I did a value count on the Severity Code in this data frame and all of them are either a 1 or 2, as seen in the screenshot below.  Meaning, that while there are 1,537 accidents that occur in areas where there are no street lights, these accidents largely resulted in property damage (1) and some being injuries (2), but non serious ones.  That\u2019s not to say these results are great, because no injury is good, but it\u2019s not as severe."
        },
        {
            "cell_type": "markdown",
            "metadata": {},
            "source": "## Conclusion"
        },
        {
            "cell_type": "markdown",
            "metadata": {},
            "source": "This project and analysis did not turn out as I had expected it to at all.  As can be deduced in the Results section, the lack of lighting in areas does not appear to have a big impact or correlation to accidents at all.  The location where there is no street light that had the most accidents, has only had 10 accidents occurring there since 2004.  Again, no accident is good, but 10 occurring in a 16 year span does not indicate a severe problem.  At a previous residence I lived at in Philadelphia, 10 accidents had occurred in the 2 years I had lived there.  There were street lights in that area, so this isn\u2019t related in that sense at all, but closer to those figures is what I would have expected to see as an indication to a problem. \n\nBecause I had chosen to investigate as to whether an area with no street lights had a higher amount of accidents for the first submission in this capstone project, I stuck with this to see it through.  As previously stated, the data shows that there isn\u2019t a high correlation of lighting conditions and location as I had thought there would be.  But that happens and is part of the process.  It happens in my current role.  Sometimes I\u2019ll start work on a project and the project team has an idea of what may have been the biggest disruption to a construction project, only to realize after some document review and analysis that something else had a bigger effect or that it was a lot of little issues that snowballed.\n\nIf I was working for the Seattle DOT or the city itself and was given this set of data to analyze, this would have been part of the full analysis done.  Once I pulled this string and saw where it ended, I would have switched gears to look at the data at a much higher level in order to determine which conditions appear to have the most impact on accidents.  From there I would have narrowed it down again to see if there are any root causes of the accidents or at least similarities in the locations with the highest number of accidents."
        },
        {
            "cell_type": "code",
            "execution_count": null,
            "metadata": {},
            "outputs": [],
            "source": ""
        }
    ],
    "metadata": {
        "kernelspec": {
            "display_name": "Python 3.6",
            "language": "python",
            "name": "python3"
        },
        "language_info": {
            "codemirror_mode": {
                "name": "ipython",
                "version": 3
            },
            "file_extension": ".py",
            "mimetype": "text/x-python",
            "name": "python",
            "nbconvert_exporter": "python",
            "pygments_lexer": "ipython3",
            "version": "3.6.9"
        }
    },
    "nbformat": 4,
    "nbformat_minor": 1
}