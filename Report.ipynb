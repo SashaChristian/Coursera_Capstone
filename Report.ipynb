{
    "cells": [
        {
            "cell_type": "markdown",
            "metadata": {
                "collapsed": true
            },
            "source": "The Problem\n\nThe problem to be discussed in this report is auto accidents occurring in dark areas where there are no street lights in Seattle.  Conditions such as this are ones that can potentially be easily addressed and fixed.  In doing so, the goal is to drastically reduce the number of auto accidents occurring in these areas and improve safety.  Those interested in this project should be every citizen in the city of Seattle, but in particular the city council since they would be able to implement such changes as adding street lamps in certain locations."
        },
        {
            "cell_type": "markdown",
            "metadata": {},
            "source": "The Data\n\nThe data to be used in analyzing this issue has been collected by the Seattle Police Department and recorded by Traffic Records.  The data was obtained through a download via Coursera.  This data contains such information as severity, location, collision type, weather conditions, road conditions, and light conditions.  \n\nFor this problem, the data of interest is the light conditions and locations of the accidents.  That will be the first point of analysis to see if there is in fact any correlation to those data sets.  From there, additional data will be analyzed in order to determine if other factors contribute to the accidents. "
        }
    ],
    "metadata": {
        "kernelspec": {
            "display_name": "Python 3.6",
            "language": "python",
            "name": "python3"
        },
        "language_info": {
            "codemirror_mode": {
                "name": "ipython",
                "version": 3
            },
            "file_extension": ".py",
            "mimetype": "text/x-python",
            "name": "python",
            "nbconvert_exporter": "python",
            "pygments_lexer": "ipython3",
            "version": "3.6.9"
        }
    },
    "nbformat": 4,
    "nbformat_minor": 1
}